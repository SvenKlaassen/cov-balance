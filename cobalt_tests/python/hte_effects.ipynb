{
 "cells": [
  {
   "cell_type": "code",
   "execution_count": 6,
   "metadata": {},
   "outputs": [],
   "source": [
    "import pandas as pd\n",
    "import plotnine as p9\n",
    "import matplotlib.pyplot as plt\n",
    "import scipy.stats as stats\n",
    "\n",
    "from sklearn.linear_model import LinearRegression\n",
    "from sklearn.ensemble import RandomForestRegressor, RandomForestClassifier\n",
    "\n",
    "\n",
    "import doubleml as dml"
   ]
  },
  {
   "cell_type": "code",
   "execution_count": 2,
   "metadata": {},
   "outputs": [
    {
     "name": "stdout",
     "output_type": "stream",
     "text": [
      "percentage of treated in train set: 0.0534\n",
      "percentage of treated in test set: 0.06\n"
     ]
    },
    {
     "data": {
      "text/html": [
       "<div>\n",
       "<style scoped>\n",
       "    .dataframe tbody tr th:only-of-type {\n",
       "        vertical-align: middle;\n",
       "    }\n",
       "\n",
       "    .dataframe tbody tr th {\n",
       "        vertical-align: top;\n",
       "    }\n",
       "\n",
       "    .dataframe thead th {\n",
       "        text-align: right;\n",
       "    }\n",
       "</style>\n",
       "<table border=\"1\" class=\"dataframe\">\n",
       "  <thead>\n",
       "    <tr style=\"text-align: right;\">\n",
       "      <th></th>\n",
       "      <th>X1</th>\n",
       "      <th>X2</th>\n",
       "      <th>X3</th>\n",
       "      <th>D</th>\n",
       "      <th>Y</th>\n",
       "      <th>m_oracle</th>\n",
       "      <th>m_hat</th>\n",
       "      <th>m_calibrated</th>\n",
       "      <th>m_oracle_ate_weights</th>\n",
       "      <th>m_oracle_att_weights</th>\n",
       "      <th>m_hat_ate_weights</th>\n",
       "      <th>m_hat_att_weights</th>\n",
       "      <th>m_calibrated_ate_weights</th>\n",
       "      <th>m_calibrated_att_weights</th>\n",
       "    </tr>\n",
       "  </thead>\n",
       "  <tbody>\n",
       "    <tr>\n",
       "      <th>0</th>\n",
       "      <td>1.372271</td>\n",
       "      <td>0.595549</td>\n",
       "      <td>0</td>\n",
       "      <td>0</td>\n",
       "      <td>3.728639</td>\n",
       "      <td>0.135755</td>\n",
       "      <td>0.139917</td>\n",
       "      <td>0.142857</td>\n",
       "      <td>1.157079</td>\n",
       "      <td>0.157079</td>\n",
       "      <td>1.162679</td>\n",
       "      <td>0.162679</td>\n",
       "      <td>1.166667</td>\n",
       "      <td>0.166667</td>\n",
       "    </tr>\n",
       "    <tr>\n",
       "      <th>1</th>\n",
       "      <td>0.462103</td>\n",
       "      <td>0.755682</td>\n",
       "      <td>0</td>\n",
       "      <td>0</td>\n",
       "      <td>1.338655</td>\n",
       "      <td>0.021218</td>\n",
       "      <td>0.023815</td>\n",
       "      <td>0.023364</td>\n",
       "      <td>1.021678</td>\n",
       "      <td>0.021678</td>\n",
       "      <td>1.024396</td>\n",
       "      <td>0.024396</td>\n",
       "      <td>1.023923</td>\n",
       "      <td>0.023923</td>\n",
       "    </tr>\n",
       "    <tr>\n",
       "      <th>2</th>\n",
       "      <td>-0.960046</td>\n",
       "      <td>0.240038</td>\n",
       "      <td>1</td>\n",
       "      <td>0</td>\n",
       "      <td>2.427715</td>\n",
       "      <td>0.003470</td>\n",
       "      <td>0.003420</td>\n",
       "      <td>0.001828</td>\n",
       "      <td>1.003482</td>\n",
       "      <td>0.003482</td>\n",
       "      <td>1.003432</td>\n",
       "      <td>0.003432</td>\n",
       "      <td>1.001832</td>\n",
       "      <td>0.001832</td>\n",
       "    </tr>\n",
       "    <tr>\n",
       "      <th>3</th>\n",
       "      <td>-0.607569</td>\n",
       "      <td>0.934605</td>\n",
       "      <td>1</td>\n",
       "      <td>0</td>\n",
       "      <td>2.387937</td>\n",
       "      <td>0.003506</td>\n",
       "      <td>0.004413</td>\n",
       "      <td>0.001828</td>\n",
       "      <td>1.003518</td>\n",
       "      <td>0.003518</td>\n",
       "      <td>1.004433</td>\n",
       "      <td>0.004433</td>\n",
       "      <td>1.001832</td>\n",
       "      <td>0.001832</td>\n",
       "    </tr>\n",
       "    <tr>\n",
       "      <th>4</th>\n",
       "      <td>-0.565393</td>\n",
       "      <td>0.395288</td>\n",
       "      <td>0</td>\n",
       "      <td>0</td>\n",
       "      <td>1.465630</td>\n",
       "      <td>0.003966</td>\n",
       "      <td>0.004019</td>\n",
       "      <td>0.001828</td>\n",
       "      <td>1.003982</td>\n",
       "      <td>0.003982</td>\n",
       "      <td>1.004035</td>\n",
       "      <td>0.004035</td>\n",
       "      <td>1.001832</td>\n",
       "      <td>0.001832</td>\n",
       "    </tr>\n",
       "  </tbody>\n",
       "</table>\n",
       "</div>"
      ],
      "text/plain": [
       "         X1        X2  X3  D         Y  m_oracle     m_hat  m_calibrated  \\\n",
       "0  1.372271  0.595549   0  0  3.728639  0.135755  0.139917      0.142857   \n",
       "1  0.462103  0.755682   0  0  1.338655  0.021218  0.023815      0.023364   \n",
       "2 -0.960046  0.240038   1  0  2.427715  0.003470  0.003420      0.001828   \n",
       "3 -0.607569  0.934605   1  0  2.387937  0.003506  0.004413      0.001828   \n",
       "4 -0.565393  0.395288   0  0  1.465630  0.003966  0.004019      0.001828   \n",
       "\n",
       "   m_oracle_ate_weights  m_oracle_att_weights  m_hat_ate_weights  \\\n",
       "0              1.157079              0.157079           1.162679   \n",
       "1              1.021678              0.021678           1.024396   \n",
       "2              1.003482              0.003482           1.003432   \n",
       "3              1.003518              0.003518           1.004433   \n",
       "4              1.003982              0.003982           1.004035   \n",
       "\n",
       "   m_hat_att_weights  m_calibrated_ate_weights  m_calibrated_att_weights  \n",
       "0           0.162679                  1.166667                  0.166667  \n",
       "1           0.024396                  1.023923                  0.023923  \n",
       "2           0.003432                  1.001832                  0.001832  \n",
       "3           0.004433                  1.001832                  0.001832  \n",
       "4           0.004035                  1.001832                  0.001832  "
      ]
     },
     "execution_count": 2,
     "metadata": {},
     "output_type": "execute_result"
    }
   ],
   "source": [
    "# load data from csv\n",
    "dgp_name = \"unbalanced\"\n",
    "\n",
    "df_train = pd.read_csv(f\"../dgps/data/{dgp_name}_train.csv\")\n",
    "df_test = pd.read_csv(f\"../dgps/data/{dgp_name}_test.csv\")\n",
    "\n",
    "print(f\"percentage of treated in train set: {df_train['D'].mean()}\")\n",
    "print(f\"percentage of treated in test set: {df_test['D'].mean()}\")\n",
    "\n",
    "df_train.head()"
   ]
  },
  {
   "cell_type": "code",
   "execution_count": 5,
   "metadata": {},
   "outputs": [],
   "source": [
    "dml_data = dml.DoubleMLData(df_train, \"Y\", \"D\", x_cols=[\"X1\", \"X2\", \"X3\"])"
   ]
  },
  {
   "cell_type": "code",
   "execution_count": 7,
   "metadata": {},
   "outputs": [],
   "source": [
    "irm_model = dml.DoubleMLIRM(\n",
    "    dml_data,\n",
    "    ml_g = RandomForestRegressor(),\n",
    "    ml_m = RandomForestClassifier(),\n",
    ")"
   ]
  },
  {
   "cell_type": "code",
   "execution_count": 11,
   "metadata": {},
   "outputs": [
    {
     "name": "stdout",
     "output_type": "stream",
     "text": [
      "       coef   std err          t          P>|t|     2.5 %    97.5 %\n",
      "D  2.402948  0.095481  25.166794  9.256018e-140  2.215809  2.590087\n"
     ]
    },
    {
     "name": "stderr",
     "output_type": "stream",
     "text": [
      "c:\\Users\\svenk\\.conda\\envs\\calibration\\Lib\\site-packages\\doubleml\\utils\\_checks.py:204: UserWarning: Propensity predictions from learner RandomForestClassifier() for ml_m are close to zero or one (eps=1e-12).\n"
     ]
    }
   ],
   "source": [
    "irm_model.fit()\n",
    "print(irm_model.summary)"
   ]
  },
  {
   "cell_type": "markdown",
   "metadata": {},
   "source": [
    "## BLP"
   ]
  },
  {
   "cell_type": "code",
   "execution_count": null,
   "metadata": {},
   "outputs": [],
   "source": []
  },
  {
   "cell_type": "markdown",
   "metadata": {},
   "source": [
    "## GATEs"
   ]
  },
  {
   "cell_type": "code",
   "execution_count": null,
   "metadata": {},
   "outputs": [],
   "source": []
  }
 ],
 "metadata": {
  "kernelspec": {
   "display_name": "calibration",
   "language": "python",
   "name": "python3"
  },
  "language_info": {
   "codemirror_mode": {
    "name": "ipython",
    "version": 3
   },
   "file_extension": ".py",
   "mimetype": "text/x-python",
   "name": "python",
   "nbconvert_exporter": "python",
   "pygments_lexer": "ipython3",
   "version": "3.11.10"
  }
 },
 "nbformat": 4,
 "nbformat_minor": 2
}
